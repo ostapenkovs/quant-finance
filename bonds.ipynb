{
 "cells": [
  {
   "cell_type": "code",
   "execution_count": 9,
   "metadata": {},
   "outputs": [],
   "source": [
    "from math import exp"
   ]
  },
  {
   "cell_type": "code",
   "execution_count": 2,
   "metadata": {},
   "outputs": [],
   "source": [
    "class ZeroCouponBond:\n",
    "    def __init__(self, principal, maturity, interest_rate):\n",
    "        self.principal = principal\n",
    "        self.maturity = maturity\n",
    "        self.interest_rate = interest_rate / 100\n",
    "    \n",
    "    def present_value(self, x, n):\n",
    "        return x / (1 + self.interest_rate)**n\n",
    "    \n",
    "    def calculate_price(self):\n",
    "        return self.present_value(self.principal, self.maturity)"
   ]
  },
  {
   "cell_type": "code",
   "execution_count": 6,
   "metadata": {},
   "outputs": [],
   "source": [
    "class CouponBond:\n",
    "    def __init__(self, principal, rate, maturity, interest_rate):\n",
    "        self.principal = principal\n",
    "        self.rate = rate / 100\n",
    "        self.maturity = maturity\n",
    "        self.interest_rate = interest_rate / 100\n",
    "\n",
    "    def present_value(self, x, n):\n",
    "        # return x * exp(-self.interest_rate * n) for continuous discounting\n",
    "        return x / (1+self.interest_rate)**n\n",
    "    \n",
    "    def calculate_price(self):\n",
    "        price = 0\n",
    "\n",
    "        for t in range(1, self.maturity+1):\n",
    "            price += self.present_value(self.principal * self.rate, t)\n",
    "        \n",
    "        price += self.present_value(self.principal, self.maturity)\n",
    "\n",
    "        return price"
   ]
  },
  {
   "cell_type": "code",
   "execution_count": 8,
   "metadata": {},
   "outputs": [
    {
     "name": "stdout",
     "output_type": "stream",
     "text": [
      "Price of the bond in dollars: 924.56\n",
      "Bond price: 1166.51\n"
     ]
    }
   ],
   "source": [
    "if __name__ == \"__main__\":\n",
    "    bond = ZeroCouponBond(1000, 2, 4)\n",
    "\n",
    "    print(\"Price of the bond in dollars: %.2f\" % bond.calculate_price())\n",
    "\n",
    "    bond2 = CouponBond(1000, 10, 3, 4)\n",
    "    print(\"Bond price: %.2f\" % bond2.calculate_price())"
   ]
  }
 ],
 "metadata": {
  "interpreter": {
   "hash": "50836b507ff1c159c3a39ee18d8e4fc7735f718f0a15bfcfb9b2a6c8c1b52ade"
  },
  "kernelspec": {
   "display_name": "Python 3.9.7 64-bit ('.venv': venv)",
   "name": "python3"
  },
  "language_info": {
   "codemirror_mode": {
    "name": "ipython",
    "version": 3
   },
   "file_extension": ".py",
   "mimetype": "text/x-python",
   "name": "python",
   "nbconvert_exporter": "python",
   "pygments_lexer": "ipython3",
   "version": "3.9.7"
  },
  "orig_nbformat": 4
 },
 "nbformat": 4,
 "nbformat_minor": 2
}
