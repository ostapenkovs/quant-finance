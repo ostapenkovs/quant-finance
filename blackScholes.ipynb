{
 "cells": [
  {
   "cell_type": "code",
   "execution_count": 11,
   "metadata": {},
   "outputs": [],
   "source": [
    "from scipy import stats\n",
    "from numpy import log, exp, sqrt\n",
    "import numpy as np"
   ]
  },
  {
   "cell_type": "code",
   "execution_count": 2,
   "metadata": {},
   "outputs": [],
   "source": [
    "def call_option_price(S, E, T, rf, sigma):\n",
    "    # calculate d1 and d2 params\n",
    "    # t=0 => T-t=T\n",
    "    d1 = (log(S/E)+(rf+sigma*sigma/2)*T)/(sigma*sqrt(T))\n",
    "    d2 = d1-sigma*sqrt(T)\n",
    "\n",
    "    return S*stats.norm.cdf(d1)-E*exp(-rf*T)*stats.norm.cdf(d2)"
   ]
  },
  {
   "cell_type": "code",
   "execution_count": 3,
   "metadata": {},
   "outputs": [],
   "source": [
    "def put_option_price(S, E, T, rf, sigma):\n",
    "    # calculate d1 and d2 params\n",
    "    # t=0 => T-t=T\n",
    "    d1 = (log(S/E)+(rf+sigma*sigma/2)*T)/(sigma*sqrt(T))\n",
    "    d2 = d1-sigma*sqrt(T)\n",
    "\n",
    "    return -S*stats.norm.cdf(-d1)+E*exp(-rf*T)*stats.norm.cdf(-d2)"
   ]
  },
  {
   "cell_type": "code",
   "execution_count": 26,
   "metadata": {},
   "outputs": [],
   "source": [
    "class OptionPricing:\n",
    "    def __init__(self, S0, E, T, rf, sigma, iterations):\n",
    "        self.S0 = S0\n",
    "        self.E = E\n",
    "        self.T = T\n",
    "        self.rf = rf\n",
    "        self.sigma = sigma\n",
    "        self.iterations = iterations\n",
    "\n",
    "    def call_option_simulation(self):\n",
    "        # payoff function is max(0, S-E) for call option\n",
    "        option_data = np.zeros([self.iterations, 2])\n",
    "\n",
    "        rand = np.random.normal(0, 1, [1, self.iterations])\n",
    "\n",
    "        # equation for the S(t) stock price at T\n",
    "        stock_price = self.S0 * np.exp(self.T * (self.rf - 0.5 * self.sigma **2) + self.sigma * np.sqrt(self.T) * rand)\n",
    "\n",
    "        # calculate S-E\n",
    "        option_data[:, 1] = stock_price - self.E\n",
    "\n",
    "        # average for MC\n",
    "        average = np.sum(np.amax(option_data, axis=1)) / float(self.iterations)\n",
    "\n",
    "        # discount factor for present value\n",
    "        return np.exp(-1.0*self.rf*self.T)*average\n",
    "    \n",
    "    def put_option_simulation(self):\n",
    "        # payoff function is max(0, E-S) for call option\n",
    "        option_data = np.zeros([self.iterations, 2])\n",
    "\n",
    "        rand = np.random.normal(0, 1, [1, self.iterations])\n",
    "\n",
    "        # equation for the S(t) stock price at T\n",
    "        stock_price = self.S0 * np.exp(self.T * (self.rf - 0.5 * self.sigma **2) + self.sigma * np.sqrt(self.T) * rand)\n",
    "\n",
    "        # calculate E-S\n",
    "        option_data[:, 1] = self.E - stock_price\n",
    "\n",
    "        # average for MC\n",
    "        average = np.sum(np.amax(option_data, axis=1)) / float(self.iterations)\n",
    "\n",
    "        # discount factor for present value\n",
    "        return np.exp(-1.0*self.rf*self.T)*average"
   ]
  },
  {
   "cell_type": "code",
   "execution_count": 29,
   "metadata": {},
   "outputs": [],
   "source": [
    "def main():\n",
    "    S0 = 100\n",
    "    E = 100\n",
    "    T = 1\n",
    "    rf = 0.05\n",
    "    sigma = 0.2\n",
    "\n",
    "    call = call_option_price(S0, E, T, rf, sigma)\n",
    "    print(call)\n",
    "\n",
    "    put = put_option_price(S0, E, T, rf, sigma)\n",
    "    print(put)\n",
    "\n",
    "    model = OptionPricing(100, 100, 1, 0.05, 0.2, 100000)\n",
    "    print(\"Value of call option is $%.2f\" % model.call_option_simulation())\n",
    "    print(\"Value of put option is $%.2f\" % model.put_option_simulation())"
   ]
  },
  {
   "cell_type": "code",
   "execution_count": 30,
   "metadata": {},
   "outputs": [
    {
     "name": "stdout",
     "output_type": "stream",
     "text": [
      "10.450583572185565\n",
      "5.573526022256971\n",
      "Value of call option is $10.43\n",
      "Value of put option is $5.60\n"
     ]
    }
   ],
   "source": [
    "if __name__ == \"__main__\":\n",
    "    main()"
   ]
  }
 ],
 "metadata": {
  "interpreter": {
   "hash": "50836b507ff1c159c3a39ee18d8e4fc7735f718f0a15bfcfb9b2a6c8c1b52ade"
  },
  "kernelspec": {
   "display_name": "Python 3.9.7 64-bit ('.venv': venv)",
   "name": "python3"
  },
  "language_info": {
   "codemirror_mode": {
    "name": "ipython",
    "version": 3
   },
   "file_extension": ".py",
   "mimetype": "text/x-python",
   "name": "python",
   "nbconvert_exporter": "python",
   "pygments_lexer": "ipython3",
   "version": "3.9.7"
  },
  "orig_nbformat": 4
 },
 "nbformat": 4,
 "nbformat_minor": 2
}
