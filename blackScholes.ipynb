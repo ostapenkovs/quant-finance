{
 "cells": [
  {
   "cell_type": "code",
   "execution_count": 1,
   "metadata": {},
   "outputs": [],
   "source": [
    "from scipy import stats\n",
    "from numpy import log, exp, sqrt"
   ]
  },
  {
   "cell_type": "code",
   "execution_count": 3,
   "metadata": {},
   "outputs": [],
   "source": [
    "def call_option_price(S, E, T, rf, sigma):\n",
    "    # calculate d1 and d2 params\n",
    "    # t=0 => T-t=T\n",
    "    d1 = (log(S/E)+(rf+sigma*sigma/2)*T)/(sigma*sqrt(T))\n",
    "    d2 = d1-sigma*sqrt(T)\n",
    "\n",
    "    return S*stats.norm.cdf(d1)-E*exp(-rf*T)*stats.norm.cdf(d2)"
   ]
  },
  {
   "cell_type": "code",
   "execution_count": 4,
   "metadata": {},
   "outputs": [],
   "source": [
    "def put_option_price(S, E, T, rf, sigma):\n",
    "    # calculate d1 and d2 params\n",
    "    # t=0 => T-t=T\n",
    "    d1 = (log(S/E)+(rf+sigma*sigma/2)*T)/(sigma*sqrt(T))\n",
    "    d2 = d1-sigma*sqrt(T)\n",
    "\n",
    "    return -S*stats.norm.cdf(-d1)+E*exp(-rf*T)*stats.norm.cdf(-d2)"
   ]
  },
  {
   "cell_type": "code",
   "execution_count": 6,
   "metadata": {},
   "outputs": [],
   "source": [
    "def main():\n",
    "    S0 = 100\n",
    "    E = 100\n",
    "    T = 1\n",
    "    rf = 0.05\n",
    "    sigma = 0.2\n",
    "\n",
    "    call = call_option_price(S0, E, T, rf, sigma)\n",
    "    print(call)\n",
    "\n",
    "    put = put_option_price(S0, E, T, rf, sigma)\n",
    "    print(put)"
   ]
  },
  {
   "cell_type": "code",
   "execution_count": 7,
   "metadata": {},
   "outputs": [
    {
     "name": "stdout",
     "output_type": "stream",
     "text": [
      "10.450583572185565\n",
      "5.573526022256971\n"
     ]
    }
   ],
   "source": [
    "if __name__ == \"__main__\":\n",
    "    main()"
   ]
  }
 ],
 "metadata": {
  "interpreter": {
   "hash": "50836b507ff1c159c3a39ee18d8e4fc7735f718f0a15bfcfb9b2a6c8c1b52ade"
  },
  "kernelspec": {
   "display_name": "Python 3.9.7 64-bit ('.venv': venv)",
   "name": "python3"
  },
  "language_info": {
   "codemirror_mode": {
    "name": "ipython",
    "version": 3
   },
   "file_extension": ".py",
   "mimetype": "text/x-python",
   "name": "python",
   "nbconvert_exporter": "python",
   "pygments_lexer": "ipython3",
   "version": "3.9.7"
  },
  "orig_nbformat": 4
 },
 "nbformat": 4,
 "nbformat_minor": 2
}
