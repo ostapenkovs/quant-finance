{
 "cells": [
  {
   "cell_type": "code",
   "execution_count": 3,
   "metadata": {},
   "outputs": [],
   "source": [
    "import numpy as np\n",
    "import yfinance as yf\n",
    "from scipy.stats import norm\n",
    "import pandas as pd\n",
    "import datetime"
   ]
  },
  {
   "cell_type": "code",
   "execution_count": 4,
   "metadata": {},
   "outputs": [],
   "source": [
    "def download_data(stock, start_date, end_date):\n",
    "    data = {}\n",
    "    ticker = yf.download(stock, start_date, end_date)\n",
    "    data[stock] = ticker[\"Adj Close\"]\n",
    "    return pd.DataFrame(data)"
   ]
  },
  {
   "cell_type": "code",
   "execution_count": 9,
   "metadata": {},
   "outputs": [],
   "source": [
    "def calculate_var(position, c, mu, sigma):\n",
    "    # VaR tomorrow, ie (n=1)\n",
    "    var = position * (mu - sigma*norm.ppf(1-c))\n",
    "    return var"
   ]
  },
  {
   "cell_type": "code",
   "execution_count": 19,
   "metadata": {},
   "outputs": [],
   "source": [
    "def calculate_var_n(position, c, mu, sigma, n):\n",
    "    # VaR n days in the future, ie (n>1)\n",
    "    var = position * (mu*n - sigma*np.sqrt(n)*norm.ppf(1-c))\n",
    "    return var"
   ]
  },
  {
   "cell_type": "code",
   "execution_count": 28,
   "metadata": {},
   "outputs": [],
   "source": [
    "class ValueAtRiskMonteCarlo:\n",
    "    def __init__(self, S, mu, sigma, c, n, iterations):\n",
    "        self.S = S\n",
    "        self.mu = mu\n",
    "        self.sigma = sigma\n",
    "        self.c = c\n",
    "        self.n = n\n",
    "        self.iterations = iterations\n",
    "    \n",
    "    def simulation(self):\n",
    "        rand = np.random.normal(0, 1, [1, self.iterations])\n",
    "\n",
    "        stock_price = self.S * np.exp(self.n * (self.mu - 0.5 * self.sigma**2) + self.sigma * np.sqrt(self.n) * rand)\n",
    "\n",
    "        # sort to determine percentile\n",
    "        stock_price = np.sort(stock_price)\n",
    "\n",
    "        percentile = np.percentile(stock_price, (1-self.c)*100)\n",
    "\n",
    "        return self.S - percentile"
   ]
  },
  {
   "cell_type": "code",
   "execution_count": 33,
   "metadata": {},
   "outputs": [],
   "source": [
    "def main():\n",
    "    start = datetime.datetime(2016, 1, 1)\n",
    "    end = datetime.datetime(2021, 1, 1)\n",
    "    stock_data = download_data(\"C\", start, end)\n",
    "\n",
    "    stock_data[\"returns\"] = np.log(stock_data[\"C\"] / stock_data[\"C\"].shift(1))\n",
    "    stock_data = stock_data[1:]\n",
    "    \n",
    "\n",
    "    # investment amt\n",
    "    S = 1e6\n",
    "    # CI\n",
    "    c = 0.95\n",
    "    # normality assmptn\n",
    "    mu = np.mean(stock_data[\"returns\"])\n",
    "    sigma = np.std(stock_data[\"returns\"])\n",
    "\n",
    "    print(\"Value at risk (tomorrow) is: $%0.2f\" % calculate_var(S, c, mu, sigma))\n",
    "    print(\"Value at risk (in 10 days) is: $%0.2f\" % calculate_var_n(S, c, mu, sigma, 10))\n",
    "\n",
    "    model = ValueAtRiskMonteCarlo(S, mu, sigma, c, 10, 10000)\n",
    "    print(\"Value at risk (in 10 days with MC) is : $%0.2f\" % model.simulation())"
   ]
  },
  {
   "cell_type": "code",
   "execution_count": 34,
   "metadata": {},
   "outputs": [
    {
     "name": "stdout",
     "output_type": "stream",
     "text": [
      "[*********************100%***********************]  1 of 1 completed\n",
      "Value at risk (tomorrow) is: $39330.07\n",
      "Value at risk (in 10 days) is: $126005.48\n",
      "Value at risk (in 10 days with MC) is : $115889.38\n"
     ]
    }
   ],
   "source": [
    "if __name__ == \"__main__\":\n",
    "    main()"
   ]
  }
 ],
 "metadata": {
  "interpreter": {
   "hash": "50836b507ff1c159c3a39ee18d8e4fc7735f718f0a15bfcfb9b2a6c8c1b52ade"
  },
  "kernelspec": {
   "display_name": "Python 3.9.7 64-bit ('.venv': venv)",
   "name": "python3"
  },
  "language_info": {
   "codemirror_mode": {
    "name": "ipython",
    "version": 3
   },
   "file_extension": ".py",
   "mimetype": "text/x-python",
   "name": "python",
   "nbconvert_exporter": "python",
   "pygments_lexer": "ipython3",
   "version": "3.9.7"
  },
  "orig_nbformat": 4
 },
 "nbformat": 4,
 "nbformat_minor": 2
}
