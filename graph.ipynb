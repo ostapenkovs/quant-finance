{
 "cells": [
  {
   "cell_type": "code",
   "execution_count": 4,
   "metadata": {},
   "outputs": [],
   "source": [
    "class Graph:\n",
    "    class Node:\n",
    "        def __init__(self, id):\n",
    "            self.id = id\n",
    "            self.neighbors = {}\n",
    "        \n",
    "        def add_neighbor(self, neighbor, weight=0):\n",
    "            self.neighbors[neighbor] = weight\n",
    "        \n",
    "        def get_id(self):\n",
    "            return self.id\n",
    "        \n",
    "        def get_neighbors(self):\n",
    "            return self.neighbors.keys()\n",
    "        \n",
    "        def get_weight(self, neighbor):\n",
    "            return self.neighbors[neighbor]\n",
    "        \n",
    "    def __init__(self):\n",
    "        self.nodes = {}\n",
    "    \n",
    "    def add_node(self, id):\n",
    "        node = self.Node(id)\n",
    "        self.nodes[id] = node\n",
    "    \n",
    "    def add_edge(self, origin, target, weight=0):\n",
    "        if origin not in self.nodes.keys():\n",
    "            self.add_node(origin)\n",
    "        if target not in self.nodes.keys():\n",
    "            self.add_node(target)\n",
    "        \n",
    "        self.nodes[origin].add_neighbor(self.nodes[target], weight)\n",
    "        self.nodes[target].add_neighbor(self.nodes[origin], weight)\n",
    "    \n",
    "    def print_graph(self):\n",
    "        pass"
   ]
  },
  {
   "cell_type": "code",
   "execution_count": 5,
   "metadata": {},
   "outputs": [],
   "source": [
    "g = Graph()"
   ]
  },
  {
   "cell_type": "code",
   "execution_count": 6,
   "metadata": {},
   "outputs": [],
   "source": [
    "g.add_node(1)\n",
    "g.add_node(2)\n",
    "g.add_node(3)"
   ]
  },
  {
   "cell_type": "code",
   "execution_count": 7,
   "metadata": {},
   "outputs": [],
   "source": [
    "g.add_edge(1, 2)\n",
    "g.add_edge(2, 3)\n",
    "g.add_edge(3, 1)\n",
    "g.add_edge(3, 4)"
   ]
  },
  {
   "cell_type": "code",
   "execution_count": 13,
   "metadata": {},
   "outputs": [
    {
     "name": "stdout",
     "output_type": "stream",
     "text": [
      "ID:  1\n",
      "2\n",
      "3\n",
      "\n",
      "\n",
      "ID:  2\n",
      "1\n",
      "3\n",
      "\n",
      "\n",
      "ID:  3\n",
      "2\n",
      "1\n",
      "4\n",
      "\n",
      "\n",
      "ID:  4\n",
      "3\n",
      "\n",
      "\n"
     ]
    }
   ],
   "source": [
    "for id in g.nodes.keys():\n",
    "    print(\"ID: \", id)\n",
    "    for connection in g.nodes[id].get_neighbors():\n",
    "        print(connection.get_id())\n",
    "    print(\"\\n\")"
   ]
  }
 ],
 "metadata": {
  "interpreter": {
   "hash": "50836b507ff1c159c3a39ee18d8e4fc7735f718f0a15bfcfb9b2a6c8c1b52ade"
  },
  "kernelspec": {
   "display_name": "Python 3.9.7 64-bit ('.venv': venv)",
   "name": "python3"
  },
  "language_info": {
   "codemirror_mode": {
    "name": "ipython",
    "version": 3
   },
   "file_extension": ".py",
   "mimetype": "text/x-python",
   "name": "python",
   "nbconvert_exporter": "python",
   "pygments_lexer": "ipython3",
   "version": "3.9.7"
  },
  "orig_nbformat": 4
 },
 "nbformat": 4,
 "nbformat_minor": 2
}
