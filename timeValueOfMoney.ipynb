{
 "cells": [
  {
   "cell_type": "code",
   "execution_count": 2,
   "metadata": {},
   "outputs": [],
   "source": [
    "from math import exp"
   ]
  },
  {
   "cell_type": "code",
   "execution_count": 3,
   "metadata": {},
   "outputs": [],
   "source": [
    "def future_discrete_value(x, r, n):\n",
    "    return x*(1+r)**n"
   ]
  },
  {
   "cell_type": "code",
   "execution_count": 4,
   "metadata": {},
   "outputs": [],
   "source": [
    "def present_discrete_value(x, r, n):\n",
    "    return x*(1+r)**(-n)"
   ]
  },
  {
   "cell_type": "code",
   "execution_count": 5,
   "metadata": {},
   "outputs": [],
   "source": [
    "def future_continuous_value(x, r, t):\n",
    "    return x*exp(r*t)"
   ]
  },
  {
   "cell_type": "code",
   "execution_count": 6,
   "metadata": {},
   "outputs": [],
   "source": [
    "def present_continuous_value(x, r, t):\n",
    "    return x*exp(-r*t)"
   ]
  },
  {
   "cell_type": "code",
   "execution_count": 8,
   "metadata": {},
   "outputs": [
    {
     "name": "stdout",
     "output_type": "stream",
     "text": [
      "Future value of x: 127.62815625000003\n"
     ]
    }
   ],
   "source": [
    "if __name__ == \"__main__\":\n",
    "    x = 100\n",
    "    r = 0.05\n",
    "    n = 5\n",
    "\n",
    "    print(\"Future value of x: %s\" % future_discrete_value(x, r, n))"
   ]
  }
 ],
 "metadata": {
  "interpreter": {
   "hash": "50836b507ff1c159c3a39ee18d8e4fc7735f718f0a15bfcfb9b2a6c8c1b52ade"
  },
  "kernelspec": {
   "display_name": "Python 3.9.7 64-bit ('.venv': venv)",
   "name": "python3"
  },
  "language_info": {
   "codemirror_mode": {
    "name": "ipython",
    "version": 3
   },
   "file_extension": ".py",
   "mimetype": "text/x-python",
   "name": "python",
   "nbconvert_exporter": "python",
   "pygments_lexer": "ipython3",
   "version": "3.9.7"
  },
  "orig_nbformat": 4
 },
 "nbformat": 4,
 "nbformat_minor": 2
}
